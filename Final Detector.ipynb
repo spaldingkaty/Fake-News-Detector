{
 "cells": [
  {
   "cell_type": "markdown",
   "metadata": {},
   "source": [
    "## The following is a Fake News Detector. It was built using a Random Forest Classifier and Natural Language Processing. \n",
    "\n",
    "\n",
    "###  The code in this notebook, when given an example article title, produces a classification of either a 0 or a 1, not fake news or fake news, respectively. This is meant to be the first of many iterations; all suggestions are welcome. \n",
    "\n",
    "##### All work was completed by Katy Spalding, November 2018. "
   ]
  },
  {
   "cell_type": "raw",
   "metadata": {},
   "source": [
    "Step 1: Imports, light Exploratory Data Analysis, cleaning data.\n",
    "\n",
    "Step 2: Defining X and y, NLP pre-processing.\n",
    "\n",
    "Step 3: train/test/validation split.\n",
    "\n",
    "Step 4: Grid search over Random Forest parameters.\n",
    "\n",
    "Step 5: Create and fit a Random Forest Classifier with the aforementioned parameters.\n",
    "\n",
    "Step 6: Check model performance on training, validation and testing data.\n",
    "\n",
    "Step 7: Perform inference. "
   ]
  },
  {
   "cell_type": "markdown",
   "metadata": {},
   "source": [
    "\n",
    "\n",
    "\n",
    "\n",
    "### Step 1: Imports, light Exploratory Data Analysis, cleaning data"
   ]
  },
  {
   "cell_type": "markdown",
   "metadata": {},
   "source": [
    "#### 1.1: Import. Read in not_fake data. Name not_fake dataset \"not_fake_og\"."
   ]
  },
  {
   "cell_type": "code",
   "execution_count": 32,
   "metadata": {},
   "outputs": [
    {
     "name": "stderr",
     "output_type": "stream",
     "text": [
      "[nltk_data] Downloading package punkt to\n",
      "[nltk_data]     /Users/katyspalding/nltk_data...\n",
      "[nltk_data]   Package punkt is already up-to-date!\n",
      "[nltk_data] Downloading package wordnet to\n",
      "[nltk_data]     /Users/katyspalding/nltk_data...\n",
      "[nltk_data]   Package wordnet is already up-to-date!\n"
     ]
    }
   ],
   "source": [
    "import pandas as pd\n",
    "import numpy as np\n",
    "import nltk\n",
    "from nltk.stem import WordNetLemmatizer\n",
    "import string\n",
    "import seaborn as sns\n",
    "nltk.download('punkt')\n",
    "nltk.download('wordnet')\n",
    "import matplotlib.pyplot as plt\n",
    "import sklearn.metrics\n",
    "\n",
    "\n",
    "\n",
    "not_fake_og = pd.read_csv('/Users/katyspalding/Desktop/not_fake.csv')\n",
    "pd.set_option('display.max_colwidth', 1000)"
   ]
  },
  {
   "cell_type": "markdown",
   "metadata": {},
   "source": [
    "#### 1.2: Drop all rows without titles. "
   ]
  },
  {
   "cell_type": "code",
   "execution_count": 33,
   "metadata": {},
   "outputs": [
    {
     "data": {
      "text/plain": [
       "(49998, 10)"
      ]
     },
     "execution_count": 33,
     "metadata": {},
     "output_type": "execute_result"
    }
   ],
   "source": [
    "not_fake_og.dropna(subset = ['title'], inplace = True)\n",
    "not_fake_og.shape"
   ]
  },
  {
   "cell_type": "code",
   "execution_count": 34,
   "metadata": {},
   "outputs": [
    {
     "data": {
      "text/plain": [
       "Unnamed: 0        0\n",
       "id                0\n",
       "title             0\n",
       "publication       0\n",
       "author         8597\n",
       "date           2626\n",
       "year           2626\n",
       "month          2626\n",
       "url            7011\n",
       "content           0\n",
       "dtype: int64"
      ]
     },
     "execution_count": 34,
     "metadata": {},
     "output_type": "execute_result"
    }
   ],
   "source": [
    "not_fake_og.isnull().sum()"
   ]
  },
  {
   "cell_type": "markdown",
   "metadata": {},
   "source": [
    "#### 1.3: Trim not_fake data to just 1 column: 'title'."
   ]
  },
  {
   "cell_type": "code",
   "execution_count": 35,
   "metadata": {},
   "outputs": [],
   "source": [
    "not_fake_og = not_fake_og[['title']]"
   ]
  },
  {
   "cell_type": "code",
   "execution_count": 36,
   "metadata": {},
   "outputs": [
    {
     "data": {
      "text/plain": [
       "(49998, 1)"
      ]
     },
     "execution_count": 36,
     "metadata": {},
     "output_type": "execute_result"
    }
   ],
   "source": [
    "not_fake_og.shape"
   ]
  },
  {
   "cell_type": "markdown",
   "metadata": {},
   "source": [
    "#### 1.4: Make not_fake data 12,000 rows long."
   ]
  },
  {
   "cell_type": "code",
   "execution_count": 37,
   "metadata": {},
   "outputs": [
    {
     "data": {
      "text/plain": [
       "(12199, 1)"
      ]
     },
     "execution_count": 37,
     "metadata": {},
     "output_type": "execute_result"
    }
   ],
   "source": [
    "not_fake = not_fake_og[1:12200]\n",
    "not_fake.shape"
   ]
  },
  {
   "cell_type": "markdown",
   "metadata": {},
   "source": [
    "#### 1.5: Add a \"fake news label\" column to not_fake data, and call all of these 0, or not fake."
   ]
  },
  {
   "cell_type": "code",
   "execution_count": 38,
   "metadata": {},
   "outputs": [
    {
     "name": "stderr",
     "output_type": "stream",
     "text": [
      "/anaconda3/lib/python3.6/site-packages/ipykernel_launcher.py:1: SettingWithCopyWarning: \n",
      "A value is trying to be set on a copy of a slice from a DataFrame.\n",
      "Try using .loc[row_indexer,col_indexer] = value instead\n",
      "\n",
      "See the caveats in the documentation: http://pandas.pydata.org/pandas-docs/stable/indexing.html#indexing-view-versus-copy\n",
      "  \"\"\"Entry point for launching an IPython kernel.\n"
     ]
    }
   ],
   "source": [
    "not_fake['fake news label'] = 0"
   ]
  },
  {
   "cell_type": "markdown",
   "metadata": {},
   "source": [
    "#### 1.6: Carry out the same steps on fake data. "
   ]
  },
  {
   "cell_type": "markdown",
   "metadata": {},
   "source": [
    "Read in fake data, drop all empty title rows. "
   ]
  },
  {
   "cell_type": "code",
   "execution_count": 39,
   "metadata": {},
   "outputs": [
    {
     "data": {
      "text/plain": [
       "(12198, 20)"
      ]
     },
     "execution_count": 39,
     "metadata": {},
     "output_type": "execute_result"
    }
   ],
   "source": [
    "# read in the data\n",
    "fake_og = pd.read_csv('/Users/katyspalding/Desktop/fake.csv')\n",
    "pd.set_option('display.max_colwidth', 1000)\n",
    "\n",
    "# drop all rows with empty titles\n",
    "fake_og.dropna(subset = ['title'], inplace = True)\n",
    "\n",
    "# ALSO, remove all fake news articles with the fake news label \"state\"\n",
    "fake = (fake_og.loc[fake_og['type'] != 'state'])\n",
    "\n",
    "# check shape\n",
    "fake.shape"
   ]
  },
  {
   "cell_type": "code",
   "execution_count": 40,
   "metadata": {},
   "outputs": [],
   "source": [
    "# trim fake data to just 1 column: 'title'\n",
    "fake = fake[['title']]"
   ]
  },
  {
   "cell_type": "code",
   "execution_count": 41,
   "metadata": {},
   "outputs": [],
   "source": [
    "# add another column to the fake data, and name all of these articles 1, denoting fake news\n",
    "fake['fake news label'] = 1"
   ]
  },
  {
   "cell_type": "markdown",
   "metadata": {},
   "source": [
    "#### 1.7: Concatenate both fake news data and not fake news data into one dataframe."
   ]
  },
  {
   "cell_type": "code",
   "execution_count": 42,
   "metadata": {},
   "outputs": [],
   "source": [
    "df = pd.concat([fake, not_fake])"
   ]
  },
  {
   "cell_type": "code",
   "execution_count": 43,
   "metadata": {},
   "outputs": [
    {
     "data": {
      "text/html": [
       "<div>\n",
       "<style scoped>\n",
       "    .dataframe tbody tr th:only-of-type {\n",
       "        vertical-align: middle;\n",
       "    }\n",
       "\n",
       "    .dataframe tbody tr th {\n",
       "        vertical-align: top;\n",
       "    }\n",
       "\n",
       "    .dataframe thead th {\n",
       "        text-align: right;\n",
       "    }\n",
       "</style>\n",
       "<table border=\"1\" class=\"dataframe\">\n",
       "  <thead>\n",
       "    <tr style=\"text-align: right;\">\n",
       "      <th></th>\n",
       "      <th>title</th>\n",
       "      <th>fake news label</th>\n",
       "    </tr>\n",
       "  </thead>\n",
       "  <tbody>\n",
       "    <tr>\n",
       "      <th>0</th>\n",
       "      <td>Muslims BUSTED: They Stole Millions In Gov’t Benefits</td>\n",
       "      <td>1</td>\n",
       "    </tr>\n",
       "    <tr>\n",
       "      <th>1</th>\n",
       "      <td>Re: Why Did Attorney General Loretta Lynch Plead The Fifth?</td>\n",
       "      <td>1</td>\n",
       "    </tr>\n",
       "    <tr>\n",
       "      <th>2</th>\n",
       "      <td>BREAKING: Weiner Cooperating With FBI On Hillary Email Investigation</td>\n",
       "      <td>1</td>\n",
       "    </tr>\n",
       "    <tr>\n",
       "      <th>3</th>\n",
       "      <td>PIN DROP SPEECH BY FATHER OF DAUGHTER Kidnapped And Killed By ISIS: \"I have voted for Donald J. Trump!\" » 100percentfedUp.com</td>\n",
       "      <td>1</td>\n",
       "    </tr>\n",
       "    <tr>\n",
       "      <th>4</th>\n",
       "      <td>FANTASTIC! TRUMP'S 7 POINT PLAN To Reform Healthcare Begins With A Bombshell! » 100percentfedUp.com</td>\n",
       "      <td>1</td>\n",
       "    </tr>\n",
       "    <tr>\n",
       "      <th>5</th>\n",
       "      <td>Hillary Goes Absolutely Berserk On Protester At Rally! (Video)</td>\n",
       "      <td>1</td>\n",
       "    </tr>\n",
       "    <tr>\n",
       "      <th>6</th>\n",
       "      <td>BREAKING! NYPD Ready To Make Arrests In Weiner Case…Hillary Visited Pedophile Island At Least 6 Times…Money Laundering, Underage Sex, Pay-for-Play,Proof of Inappropriate Handling Classified Information » 100percentfedUp.com</td>\n",
       "      <td>1</td>\n",
       "    </tr>\n",
       "    <tr>\n",
       "      <th>7</th>\n",
       "      <td>WOW! WHISTLEBLOWER TELLS CHILLING STORY Of Massive Voter Fraud: Trump Campaign Readies Lawsuit Against FL Sec Of Elections In Critical District [VIDEO] » 100percentfedUp.com</td>\n",
       "      <td>1</td>\n",
       "    </tr>\n",
       "    <tr>\n",
       "      <th>8</th>\n",
       "      <td>BREAKING: CLINTON CLEARED...Was This A Coordinated Last Minute Trick To Energize Hillary's Base? » 100percentfedUp.com</td>\n",
       "      <td>1</td>\n",
       "    </tr>\n",
       "    <tr>\n",
       "      <th>9</th>\n",
       "      <td>EVIL HILLARY SUPPORTERS Yell \"F*ck Trump\"…Burn Truck Of Daddy Fishing With 2 Yr Son Over Of Trump Bumper-Stickers [VIDEO] » 100percentfedUp.com</td>\n",
       "      <td>1</td>\n",
       "    </tr>\n",
       "    <tr>\n",
       "      <th>10</th>\n",
       "      <td>YIKES! HILLARY GOES OFF THE RAILS…Pulls A Howard Dean [Video]</td>\n",
       "      <td>1</td>\n",
       "    </tr>\n",
       "    <tr>\n",
       "      <th>11</th>\n",
       "      <td>SAY GOODBYE! These 23 Hollywood Celebs Threatened To Leave The U.S....Let's Hold Them To It! » 100percentfedUp.com</td>\n",
       "      <td>1</td>\n",
       "    </tr>\n",
       "    <tr>\n",
       "      <th>12</th>\n",
       "      <td>NOT KIDDING: Colleges Give Students “Safe Spaces” To Cry Over Trump Win…Threaten Students Over Pro-Trump “Chalkings”</td>\n",
       "      <td>1</td>\n",
       "    </tr>\n",
       "    <tr>\n",
       "      <th>13</th>\n",
       "      <td>BOOM! MATH SHOWS Trump Would Have Beaten Obama In Romney-Obama Election » 100percentfedUp.com</td>\n",
       "      <td>1</td>\n",
       "    </tr>\n",
       "    <tr>\n",
       "      <th>14</th>\n",
       "      <td>BOOM! This Is How President Reagan Handled Protesters: \"Negotiate? What is there to negotiate?\" [Video] » 100percentfedUp.com</td>\n",
       "      <td>1</td>\n",
       "    </tr>\n",
       "    <tr>\n",
       "      <th>15</th>\n",
       "      <td>TRUMP SUPPORTER GOT NUTS On MSNBC Reporter Covering Anti-Trump Rioters [Video]</td>\n",
       "      <td>1</td>\n",
       "    </tr>\n",
       "    <tr>\n",
       "      <th>16</th>\n",
       "      <td>TOMI LAHREN Has Special Message For Celebrities Who Said They'd Move To Canada If Trump Won [VIDEO] » 100percentfedUp.com</td>\n",
       "      <td>1</td>\n",
       "    </tr>\n",
       "    <tr>\n",
       "      <th>17</th>\n",
       "      <td>#BoycottComedian…ROBERT DENIRO Wanted “To Punch Trump In The Face”…Supports Anti-Trump Rioters…Now Wants Americans To Support His New Movie [VIDEO]</td>\n",
       "      <td>1</td>\n",
       "    </tr>\n",
       "    <tr>\n",
       "      <th>18</th>\n",
       "      <td>HE’S NEVER SOLD AN ORIGINAL PAINTING UNTIL NOW…And This One’s Going In The White House</td>\n",
       "      <td>1</td>\n",
       "    </tr>\n",
       "    <tr>\n",
       "      <th>19</th>\n",
       "      <td>SORRY LIBERALS…You Can Stop With The Petitions…Hillary Did NOT Win The Popular Vote</td>\n",
       "      <td>1</td>\n",
       "    </tr>\n",
       "    <tr>\n",
       "      <th>20</th>\n",
       "      <td>MARK CUBAN: \"In The Event Donald Wins, I Have No Doubt The Market Tanks\"…So Here's What Really Happened [VIDEO] » 100percentfedUp.com</td>\n",
       "      <td>1</td>\n",
       "    </tr>\n",
       "    <tr>\n",
       "      <th>21</th>\n",
       "      <td>TRUMP SUPPORTER Whose Brutal Beating By Black Mob Was Caught On Video Asks: “What Happened To America?” [VIDEO]</td>\n",
       "      <td>1</td>\n",
       "    </tr>\n",
       "    <tr>\n",
       "      <th>22</th>\n",
       "      <td>WOW! WHITE Liberals Suggest Blacks Are Too Stupid To Get ID’s…Can’t Figure Out How To Use Internet [VIDEO]</td>\n",
       "      <td>1</td>\n",
       "    </tr>\n",
       "    <tr>\n",
       "      <th>23</th>\n",
       "      <td>LOL! BRITISH WIFE Of LIB ACTOR Who Said: “There Will Never Be A President Donald Trump”…Warns Americans About President-Elect Trump [VIDEO]</td>\n",
       "      <td>1</td>\n",
       "    </tr>\n",
       "    <tr>\n",
       "      <th>24</th>\n",
       "      <td>EPIC! TUCKER CARLSON Demolishes NYC Councilman Over Sanctuary Cities [Video]</td>\n",
       "      <td>1</td>\n",
       "    </tr>\n",
       "    <tr>\n",
       "      <th>25</th>\n",
       "      <td>FUNNY! SNL’S SOLUTION To Democrat Election Denial: “Safe Space For Everyone” [Video]</td>\n",
       "      <td>1</td>\n",
       "    </tr>\n",
       "    <tr>\n",
       "      <th>26</th>\n",
       "      <td>DONALD TRUMP Calls Meeting With Press…Dresses Down Real Fake News Networks: “Everyone at CNN is a liar and you should be ashamed”</td>\n",
       "      <td>1</td>\n",
       "    </tr>\n",
       "    <tr>\n",
       "      <th>27</th>\n",
       "      <td>OOPS! CRYBABY HAMILTON STARS Who Lectured Pence Haven't Voted In Years [VIDEO] » 100percentfedUp.com</td>\n",
       "      <td>1</td>\n",
       "    </tr>\n",
       "    <tr>\n",
       "      <th>28</th>\n",
       "      <td>WHITE TRUMP-BASHING LIB Reprimanded On LIVE CNN Interview For Using “N-Word” [VIDEO]</td>\n",
       "      <td>1</td>\n",
       "    </tr>\n",
       "    <tr>\n",
       "      <th>29</th>\n",
       "      <td>BOOM! Kellyanne Conway Shuts Down CNN’s Cuomo</td>\n",
       "      <td>1</td>\n",
       "    </tr>\n",
       "    <tr>\n",
       "      <th>...</th>\n",
       "      <td>...</td>\n",
       "      <td>...</td>\n",
       "    </tr>\n",
       "    <tr>\n",
       "      <th>12170</th>\n",
       "      <td>Another Thought About Felix Sater</td>\n",
       "      <td>0</td>\n",
       "    </tr>\n",
       "    <tr>\n",
       "      <th>12171</th>\n",
       "      <td>Cohen Shifts Into Damage Control</td>\n",
       "      <td>0</td>\n",
       "    </tr>\n",
       "    <tr>\n",
       "      <th>12172</th>\n",
       "      <td>Spicer: Anne Frank Center Should Praise Trump’s ’Leadership’</td>\n",
       "      <td>0</td>\n",
       "    </tr>\n",
       "    <tr>\n",
       "      <th>12173</th>\n",
       "      <td>’Refugees Welcome’ Banner Hung On Statue Of Liberty’s Pedestal</td>\n",
       "      <td>0</td>\n",
       "    </tr>\n",
       "    <tr>\n",
       "      <th>12174</th>\n",
       "      <td>GOP Rep. Threatens To Cancel Town Hall If Protesters Get ’Disruptive’</td>\n",
       "      <td>0</td>\n",
       "    </tr>\n",
       "    <tr>\n",
       "      <th>12175</th>\n",
       "      <td>Judge Blocks Texas From Cutting Medicaid Funds To Planned Parenthood</td>\n",
       "      <td>0</td>\n",
       "    </tr>\n",
       "    <tr>\n",
       "      <th>12176</th>\n",
       "      <td>Man Who Smashed Trump Walk Of Fame Star To Pay Damages, Serve Probation</td>\n",
       "      <td>0</td>\n",
       "    </tr>\n",
       "    <tr>\n",
       "      <th>12177</th>\n",
       "      <td>Anne Frank Center Criticizes Trump’s ’Pathetic Asterisk Of Condescension’</td>\n",
       "      <td>0</td>\n",
       "    </tr>\n",
       "    <tr>\n",
       "      <th>12178</th>\n",
       "      <td>Asked About Anti-Muslim Hate Groups, Spicer Talks About Islamic Terrorism</td>\n",
       "      <td>0</td>\n",
       "    </tr>\n",
       "    <tr>\n",
       "      <th>12179</th>\n",
       "      <td>Dem Rep. Sues Capitol Architect Over Removal Of Painting Of Animal Cops</td>\n",
       "      <td>0</td>\n",
       "    </tr>\n",
       "    <tr>\n",
       "      <th>12180</th>\n",
       "      <td>McConnell Thinks Hundreds Protesting His Event Are Just Upset About Election</td>\n",
       "      <td>0</td>\n",
       "    </tr>\n",
       "    <tr>\n",
       "      <th>12181</th>\n",
       "      <td>Chaffetz Says Town Hall Attendees Meant To ’Bully And Intimidate’ Him</td>\n",
       "      <td>0</td>\n",
       "    </tr>\n",
       "    <tr>\n",
       "      <th>12182</th>\n",
       "      <td>Trump’s Voter Fraud Probe Still Hasn’t Gotten Off The Ground</td>\n",
       "      <td>0</td>\n",
       "    </tr>\n",
       "    <tr>\n",
       "      <th>12183</th>\n",
       "      <td>Anti-Defamation League Headquarters Receives Bomb Threat</td>\n",
       "      <td>0</td>\n",
       "    </tr>\n",
       "    <tr>\n",
       "      <th>12184</th>\n",
       "      <td>The Election Is This Weekend</td>\n",
       "      <td>0</td>\n",
       "    </tr>\n",
       "    <tr>\n",
       "      <th>12185</th>\n",
       "      <td>DNC Chair Race Remains Tight As Energized Democrats Combat Trump</td>\n",
       "      <td>0</td>\n",
       "    </tr>\n",
       "    <tr>\n",
       "      <th>12186</th>\n",
       "      <td>Your Townhall Roundup</td>\n",
       "      <td>0</td>\n",
       "    </tr>\n",
       "    <tr>\n",
       "      <th>12187</th>\n",
       "      <td>RECESS RUCKUS: Republicans Met With Jeers At Town Halls Across Country</td>\n",
       "      <td>0</td>\n",
       "    </tr>\n",
       "    <tr>\n",
       "      <th>12188</th>\n",
       "      <td>Ask your environment/climate change Qs to Bill McKibben today at 3:30pm EST</td>\n",
       "      <td>0</td>\n",
       "    </tr>\n",
       "    <tr>\n",
       "      <th>12189</th>\n",
       "      <td>Learning Eye-Popping Details About Mr Sater</td>\n",
       "      <td>0</td>\n",
       "    </tr>\n",
       "    <tr>\n",
       "      <th>12190</th>\n",
       "      <td>Break the Big Stories</td>\n",
       "      <td>0</td>\n",
       "    </tr>\n",
       "    <tr>\n",
       "      <th>12191</th>\n",
       "      <td>Hillary Clinton: Get Out Of Congress ’If You Can’t Stand The Heat’</td>\n",
       "      <td>0</td>\n",
       "    </tr>\n",
       "    <tr>\n",
       "      <th>12192</th>\n",
       "      <td>Melania Trump Removes Language About Her ’Brand’ From Defamation Suit</td>\n",
       "      <td>0</td>\n",
       "    </tr>\n",
       "    <tr>\n",
       "      <th>12193</th>\n",
       "      <td>White House Pushes Back On Report That Conway Is ’Sidelined’ From TV</td>\n",
       "      <td>0</td>\n",
       "    </tr>\n",
       "    <tr>\n",
       "      <th>12194</th>\n",
       "      <td>Collins: I Will Ask That Flynn Testify Before Senate Intel Committee</td>\n",
       "      <td>0</td>\n",
       "    </tr>\n",
       "    <tr>\n",
       "      <th>12195</th>\n",
       "      <td>NYT: Sessions And DeVos Clashed Over Protections For Transgender Students</td>\n",
       "      <td>0</td>\n",
       "    </tr>\n",
       "    <tr>\n",
       "      <th>12196</th>\n",
       "      <td>Protesters Greet McConnell Outside Closed-Door Event For 2nd Day In A Row</td>\n",
       "      <td>0</td>\n",
       "    </tr>\n",
       "    <tr>\n",
       "      <th>12197</th>\n",
       "      <td>CNN: FBI Refused WH Request To Refute Stories About Russian Contact</td>\n",
       "      <td>0</td>\n",
       "    </tr>\n",
       "    <tr>\n",
       "      <th>12198</th>\n",
       "      <td>Ted Cruz Thinks Another Supreme Court Seat Will Open Up This Summer</td>\n",
       "      <td>0</td>\n",
       "    </tr>\n",
       "    <tr>\n",
       "      <th>12199</th>\n",
       "      <td>Conway To Town Hall Protesters: ’Come Up With Your Own Solutions’</td>\n",
       "      <td>0</td>\n",
       "    </tr>\n",
       "  </tbody>\n",
       "</table>\n",
       "<p>24397 rows × 2 columns</p>\n",
       "</div>"
      ],
      "text/plain": [
       "                                                                                                                                                                                                                                 title  \\\n",
       "0                                                                                                                                                                                Muslims BUSTED: They Stole Millions In Gov’t Benefits   \n",
       "1                                                                                                                                                                          Re: Why Did Attorney General Loretta Lynch Plead The Fifth?   \n",
       "2                                                                                                                                                                 BREAKING: Weiner Cooperating With FBI On Hillary Email Investigation   \n",
       "3                                                                                                        PIN DROP SPEECH BY FATHER OF DAUGHTER Kidnapped And Killed By ISIS: \"I have voted for Donald J. Trump!\" » 100percentfedUp.com   \n",
       "4                                                                                                                                  FANTASTIC! TRUMP'S 7 POINT PLAN To Reform Healthcare Begins With A Bombshell! » 100percentfedUp.com   \n",
       "5                                                                                                                                                                       Hillary Goes Absolutely Berserk On Protester At Rally! (Video)   \n",
       "6      BREAKING! NYPD Ready To Make Arrests In Weiner Case…Hillary Visited Pedophile Island At Least 6 Times…Money Laundering, Underage Sex, Pay-for-Play,Proof of Inappropriate Handling Classified Information » 100percentfedUp.com   \n",
       "7                                                        WOW! WHISTLEBLOWER TELLS CHILLING STORY Of Massive Voter Fraud: Trump Campaign Readies Lawsuit Against FL Sec Of Elections In Critical District [VIDEO] » 100percentfedUp.com   \n",
       "8                                                                                                               BREAKING: CLINTON CLEARED...Was This A Coordinated Last Minute Trick To Energize Hillary's Base? » 100percentfedUp.com   \n",
       "9                                                                                      EVIL HILLARY SUPPORTERS Yell \"F*ck Trump\"…Burn Truck Of Daddy Fishing With 2 Yr Son Over Of Trump Bumper-Stickers [VIDEO] » 100percentfedUp.com   \n",
       "10                                                                                                                                                                       YIKES! HILLARY GOES OFF THE RAILS…Pulls A Howard Dean [Video]   \n",
       "11                                                                                                                  SAY GOODBYE! These 23 Hollywood Celebs Threatened To Leave The U.S....Let's Hold Them To It! » 100percentfedUp.com   \n",
       "12                                                                                                                NOT KIDDING: Colleges Give Students “Safe Spaces” To Cry Over Trump Win…Threaten Students Over Pro-Trump “Chalkings”   \n",
       "13                                                                                                                                       BOOM! MATH SHOWS Trump Would Have Beaten Obama In Romney-Obama Election » 100percentfedUp.com   \n",
       "14                                                                                                       BOOM! This Is How President Reagan Handled Protesters: \"Negotiate? What is there to negotiate?\" [Video] » 100percentfedUp.com   \n",
       "15                                                                                                                                                      TRUMP SUPPORTER GOT NUTS On MSNBC Reporter Covering Anti-Trump Rioters [Video]   \n",
       "16                                                                                                           TOMI LAHREN Has Special Message For Celebrities Who Said They'd Move To Canada If Trump Won [VIDEO] » 100percentfedUp.com   \n",
       "17                                                                                 #BoycottComedian…ROBERT DENIRO Wanted “To Punch Trump In The Face”…Supports Anti-Trump Rioters…Now Wants Americans To Support His New Movie [VIDEO]   \n",
       "18                                                                                                                                              HE’S NEVER SOLD AN ORIGINAL PAINTING UNTIL NOW…And This One’s Going In The White House   \n",
       "19                                                                                                                                                 SORRY LIBERALS…You Can Stop With The Petitions…Hillary Did NOT Win The Popular Vote   \n",
       "20                                                                                               MARK CUBAN: \"In The Event Donald Wins, I Have No Doubt The Market Tanks\"…So Here's What Really Happened [VIDEO] » 100percentfedUp.com   \n",
       "21                                                                                                                     TRUMP SUPPORTER Whose Brutal Beating By Black Mob Was Caught On Video Asks: “What Happened To America?” [VIDEO]   \n",
       "22                                                                                                                          WOW! WHITE Liberals Suggest Blacks Are Too Stupid To Get ID’s…Can’t Figure Out How To Use Internet [VIDEO]   \n",
       "23                                                                                         LOL! BRITISH WIFE Of LIB ACTOR Who Said: “There Will Never Be A President Donald Trump”…Warns Americans About President-Elect Trump [VIDEO]   \n",
       "24                                                                                                                                                        EPIC! TUCKER CARLSON Demolishes NYC Councilman Over Sanctuary Cities [Video]   \n",
       "25                                                                                                                                                FUNNY! SNL’S SOLUTION To Democrat Election Denial: “Safe Space For Everyone” [Video]   \n",
       "26                                                                                                   DONALD TRUMP Calls Meeting With Press…Dresses Down Real Fake News Networks: “Everyone at CNN is a liar and you should be ashamed”   \n",
       "27                                                                                                                                OOPS! CRYBABY HAMILTON STARS Who Lectured Pence Haven't Voted In Years [VIDEO] » 100percentfedUp.com   \n",
       "28                                                                                                                                                WHITE TRUMP-BASHING LIB Reprimanded On LIVE CNN Interview For Using “N-Word” [VIDEO]   \n",
       "29                                                                                                                                                                                       BOOM! Kellyanne Conway Shuts Down CNN’s Cuomo   \n",
       "...                                                                                                                                                                                                                                ...   \n",
       "12170                                                                                                                                                                                                Another Thought About Felix Sater   \n",
       "12171                                                                                                                                                                                                 Cohen Shifts Into Damage Control   \n",
       "12172                                                                                                                                                                     Spicer: Anne Frank Center Should Praise Trump’s ’Leadership’   \n",
       "12173                                                                                                                                                                   ’Refugees Welcome’ Banner Hung On Statue Of Liberty’s Pedestal   \n",
       "12174                                                                                                                                                            GOP Rep. Threatens To Cancel Town Hall If Protesters Get ’Disruptive’   \n",
       "12175                                                                                                                                                             Judge Blocks Texas From Cutting Medicaid Funds To Planned Parenthood   \n",
       "12176                                                                                                                                                          Man Who Smashed Trump Walk Of Fame Star To Pay Damages, Serve Probation   \n",
       "12177                                                                                                                                                        Anne Frank Center Criticizes Trump’s ’Pathetic Asterisk Of Condescension’   \n",
       "12178                                                                                                                                                        Asked About Anti-Muslim Hate Groups, Spicer Talks About Islamic Terrorism   \n",
       "12179                                                                                                                                                          Dem Rep. Sues Capitol Architect Over Removal Of Painting Of Animal Cops   \n",
       "12180                                                                                                                                                     McConnell Thinks Hundreds Protesting His Event Are Just Upset About Election   \n",
       "12181                                                                                                                                                            Chaffetz Says Town Hall Attendees Meant To ’Bully And Intimidate’ Him   \n",
       "12182                                                                                                                                                                     Trump’s Voter Fraud Probe Still Hasn’t Gotten Off The Ground   \n",
       "12183                                                                                                                                                                         Anti-Defamation League Headquarters Receives Bomb Threat   \n",
       "12184                                                                                                                                                                                                     The Election Is This Weekend   \n",
       "12185                                                                                                                                                                 DNC Chair Race Remains Tight As Energized Democrats Combat Trump   \n",
       "12186                                                                                                                                                                                                            Your Townhall Roundup   \n",
       "12187                                                                                                                                                           RECESS RUCKUS: Republicans Met With Jeers At Town Halls Across Country   \n",
       "12188                                                                                                                                                      Ask your environment/climate change Qs to Bill McKibben today at 3:30pm EST   \n",
       "12189                                                                                                                                                                                      Learning Eye-Popping Details About Mr Sater   \n",
       "12190                                                                                                                                                                                                            Break the Big Stories   \n",
       "12191                                                                                                                                                               Hillary Clinton: Get Out Of Congress ’If You Can’t Stand The Heat’   \n",
       "12192                                                                                                                                                            Melania Trump Removes Language About Her ’Brand’ From Defamation Suit   \n",
       "12193                                                                                                                                                             White House Pushes Back On Report That Conway Is ’Sidelined’ From TV   \n",
       "12194                                                                                                                                                             Collins: I Will Ask That Flynn Testify Before Senate Intel Committee   \n",
       "12195                                                                                                                                                        NYT: Sessions And DeVos Clashed Over Protections For Transgender Students   \n",
       "12196                                                                                                                                                        Protesters Greet McConnell Outside Closed-Door Event For 2nd Day In A Row   \n",
       "12197                                                                                                                                                              CNN: FBI Refused WH Request To Refute Stories About Russian Contact   \n",
       "12198                                                                                                                                                              Ted Cruz Thinks Another Supreme Court Seat Will Open Up This Summer   \n",
       "12199                                                                                                                                                                Conway To Town Hall Protesters: ’Come Up With Your Own Solutions’   \n",
       "\n",
       "       fake news label  \n",
       "0                    1  \n",
       "1                    1  \n",
       "2                    1  \n",
       "3                    1  \n",
       "4                    1  \n",
       "5                    1  \n",
       "6                    1  \n",
       "7                    1  \n",
       "8                    1  \n",
       "9                    1  \n",
       "10                   1  \n",
       "11                   1  \n",
       "12                   1  \n",
       "13                   1  \n",
       "14                   1  \n",
       "15                   1  \n",
       "16                   1  \n",
       "17                   1  \n",
       "18                   1  \n",
       "19                   1  \n",
       "20                   1  \n",
       "21                   1  \n",
       "22                   1  \n",
       "23                   1  \n",
       "24                   1  \n",
       "25                   1  \n",
       "26                   1  \n",
       "27                   1  \n",
       "28                   1  \n",
       "29                   1  \n",
       "...                ...  \n",
       "12170                0  \n",
       "12171                0  \n",
       "12172                0  \n",
       "12173                0  \n",
       "12174                0  \n",
       "12175                0  \n",
       "12176                0  \n",
       "12177                0  \n",
       "12178                0  \n",
       "12179                0  \n",
       "12180                0  \n",
       "12181                0  \n",
       "12182                0  \n",
       "12183                0  \n",
       "12184                0  \n",
       "12185                0  \n",
       "12186                0  \n",
       "12187                0  \n",
       "12188                0  \n",
       "12189                0  \n",
       "12190                0  \n",
       "12191                0  \n",
       "12192                0  \n",
       "12193                0  \n",
       "12194                0  \n",
       "12195                0  \n",
       "12196                0  \n",
       "12197                0  \n",
       "12198                0  \n",
       "12199                0  \n",
       "\n",
       "[24397 rows x 2 columns]"
      ]
     },
     "execution_count": 43,
     "metadata": {},
     "output_type": "execute_result"
    }
   ],
   "source": [
    "df"
   ]
  },
  {
   "cell_type": "code",
   "execution_count": 44,
   "metadata": {},
   "outputs": [
    {
     "data": {
      "text/plain": [
       "0    12199\n",
       "1    12198\n",
       "Name: fake news label, dtype: int64"
      ]
     },
     "execution_count": 44,
     "metadata": {},
     "output_type": "execute_result"
    }
   ],
   "source": [
    "df['fake news label'].value_counts()"
   ]
  },
  {
   "cell_type": "markdown",
   "metadata": {},
   "source": [
    "### Step 2:  Defining X and y, NLP pre-processing."
   ]
  },
  {
   "cell_type": "markdown",
   "metadata": {},
   "source": [
    "#### 2.1: Define X and y."
   ]
  },
  {
   "cell_type": "code",
   "execution_count": 45,
   "metadata": {},
   "outputs": [],
   "source": [
    "X = df[['title']]\n",
    "y = df[['fake news label']]"
   ]
  },
  {
   "cell_type": "markdown",
   "metadata": {},
   "source": [
    "#### 2.2: NLP Preprocessing. Add a new 'lemma' column to the dataframe. To every title in the dataframe: lower case it, tokenize it, remove all punctuation, and convert every invididual word to its lemma. Lastly, add this new lemmatized title to the column 'lemma'."
   ]
  },
  {
   "cell_type": "code",
   "execution_count": 46,
   "metadata": {},
   "outputs": [],
   "source": [
    "wordnet_lemmatizer = WordNetLemmatizer() \n",
    "\n",
    "def clean_lemma_X(og_article_title):\n",
    "    og_article_title = og_article_title.lower() # 1. make it lower case\n",
    "    \n",
    "    article_title_split = nltk.word_tokenize(og_article_title) # 2. tokenize it\n",
    "    \n",
    "    article_title_split = [word for word in article_title_split if word not in string.punctuation] # 3. remove all punctuation\n",
    "    \n",
    "    article_title_lemmatized=[] # 4. convert to lemma\n",
    "    word = [wordnet_lemmatizer.lemmatize(word, pos='n') for word in article_title_split]\n",
    "    word = [wordnet_lemmatizer.lemmatize(word, pos='a') for word in article_title_split]\n",
    "    word = [wordnet_lemmatizer.lemmatize(word, pos='v') for word in article_title_split]\n",
    "\n",
    "    article_title_lemmatized.append(word)\n",
    "    return ' '.join(word)    \n",
    "\n",
    "# 5. Add new lemmatized title to the column 'lemma'\n",
    "X['lemma'] = X['title'].map(clean_lemma_X)"
   ]
  },
  {
   "cell_type": "markdown",
   "metadata": {},
   "source": [
    "#### 2.3: TFIDF the 'lemma' column."
   ]
  },
  {
   "cell_type": "code",
   "execution_count": 47,
   "metadata": {},
   "outputs": [],
   "source": [
    "from sklearn.feature_extraction.text import TfidfVectorizer\n",
    "\n",
    "tfidf_vectorizer = TfidfVectorizer()\n",
    "X = tfidf_vectorizer.fit_transform(X['lemma'])\n",
    "\n",
    "# X is now a sparse matrix"
   ]
  },
  {
   "cell_type": "markdown",
   "metadata": {},
   "source": [
    "### Step 3: train/test/validation split."
   ]
  },
  {
   "cell_type": "code",
   "execution_count": 48,
   "metadata": {},
   "outputs": [],
   "source": [
    "from sklearn.model_selection import train_test_split\n",
    "X_train, X_test, y_train, y_test = train_test_split(X, y, test_size=0.2, random_state=1)\n",
    "\n",
    "X_train, X_val, y_train, y_val = train_test_split(X_train, y_train, test_size=0.2, random_state=1)"
   ]
  },
  {
   "cell_type": "markdown",
   "metadata": {},
   "source": [
    "#### 3.2: Make y into a dummy column."
   ]
  },
  {
   "cell_type": "code",
   "execution_count": 49,
   "metadata": {},
   "outputs": [],
   "source": [
    "y_train_dummies = pd.get_dummies(y_train) # DO I EVER EVEN USE Y_TRAIN_DUMMIES IN MY CLASSIFIER?"
   ]
  },
  {
   "cell_type": "markdown",
   "metadata": {},
   "source": [
    "### Step 4: Grid search over Random Forest parameters."
   ]
  },
  {
   "cell_type": "code",
   "execution_count": 50,
   "metadata": {},
   "outputs": [
    {
     "name": "stderr",
     "output_type": "stream",
     "text": [
      "/anaconda3/lib/python3.6/site-packages/sklearn/model_selection/_split.py:2053: FutureWarning: You should specify a value for 'cv' instead of relying on the default value. The default value will change from 3 to 5 in version 0.22.\n",
      "  warnings.warn(CV_WARNING, FutureWarning)\n",
      "/anaconda3/lib/python3.6/site-packages/sklearn/model_selection/_search.py:740: DataConversionWarning: A column-vector y was passed when a 1d array was expected. Please change the shape of y to (n_samples,), for example using ravel().\n",
      "  self.best_estimator_.fit(X, y, **fit_params)\n"
     ]
    },
    {
     "data": {
      "text/plain": [
       "GridSearchCV(cv='warn', error_score='raise-deprecating',\n",
       "       estimator=RandomForestClassifier(bootstrap=True, class_weight=None, criterion='gini',\n",
       "            max_depth=None, max_features='auto', max_leaf_nodes=None,\n",
       "            min_impurity_decrease=0.0, min_impurity_split=None,\n",
       "            min_samples_leaf=1, min_samples_split=2,\n",
       "            min_weight_fraction_leaf=0.0, n_estimators='warn', n_jobs=None,\n",
       "            oob_score=False, random_state=None, verbose=0,\n",
       "            warm_start=False),\n",
       "       fit_params=None, iid='warn', n_jobs=4,\n",
       "       param_grid={'n_estimators': range(5, 30, 2), 'max_depth': range(2, 12, 2)},\n",
       "       pre_dispatch='2*n_jobs', refit=True, return_train_score='warn',\n",
       "       scoring='roc_auc', verbose=0)"
      ]
     },
     "execution_count": 50,
     "metadata": {},
     "output_type": "execute_result"
    }
   ],
   "source": [
    "from sklearn.model_selection import GridSearchCV\n",
    "from sklearn.ensemble import RandomForestClassifier\n",
    "\n",
    "cls = RandomForestClassifier()\n",
    "\n",
    "params = {\n",
    "    'n_estimators': range(5, 30, 2),\n",
    "    'max_depth': range(2, 12, 2),\n",
    "}\n",
    "\n",
    "gs = GridSearchCV(cls, params, scoring='roc_auc', n_jobs=4)\n",
    "\n",
    "gs.fit(X_train, y_train_dummies)"
   ]
  },
  {
   "cell_type": "markdown",
   "metadata": {},
   "source": [
    "#### 4.2: Print the parameters that yeiled the best outcome."
   ]
  },
  {
   "cell_type": "code",
   "execution_count": 20,
   "metadata": {
    "scrolled": true
   },
   "outputs": [
    {
     "name": "stdout",
     "output_type": "stream",
     "text": [
      "0.7692452331019601\n",
      "RandomForestClassifier(bootstrap=True, class_weight=None, criterion='gini',\n",
      "            max_depth=10, max_features='auto', max_leaf_nodes=None,\n",
      "            min_impurity_decrease=0.0, min_impurity_split=None,\n",
      "            min_samples_leaf=1, min_samples_split=2,\n",
      "            min_weight_fraction_leaf=0.0, n_estimators=29, n_jobs=None,\n",
      "            oob_score=False, random_state=None, verbose=0,\n",
      "            warm_start=False)\n"
     ]
    }
   ],
   "source": [
    "print (gs.best_score_)\n",
    "print (gs.best_estimator_)"
   ]
  },
  {
   "cell_type": "markdown",
   "metadata": {},
   "source": [
    "### Step 5: Create and fit a Random Forest Classifier with the aforementioned parameters on both training and validation data. "
   ]
  },
  {
   "cell_type": "markdown",
   "metadata": {},
   "source": [
    "#### 5.1: Create an instance of a RFC."
   ]
  },
  {
   "cell_type": "code",
   "execution_count": 21,
   "metadata": {
    "scrolled": false
   },
   "outputs": [
    {
     "name": "stderr",
     "output_type": "stream",
     "text": [
      "/anaconda3/lib/python3.6/site-packages/ipykernel_launcher.py:2: DataConversionWarning: A column-vector y was passed when a 1d array was expected. Please change the shape of y to (n_samples,), for example using ravel().\n",
      "  \n"
     ]
    },
    {
     "data": {
      "text/plain": [
       "RandomForestClassifier(bootstrap=True, class_weight='balanced',\n",
       "            criterion='gini', max_depth=10, max_features='auto',\n",
       "            max_leaf_nodes=None, min_impurity_decrease=0.0,\n",
       "            min_impurity_split=None, min_samples_leaf=1,\n",
       "            min_samples_split=2, min_weight_fraction_leaf=0.0,\n",
       "            n_estimators=29, n_jobs=None, oob_score=False,\n",
       "            random_state=None, verbose=0, warm_start=False)"
      ]
     },
     "execution_count": 21,
     "metadata": {},
     "output_type": "execute_result"
    }
   ],
   "source": [
    "cls = RandomForestClassifier(max_depth=10, n_estimators=29, class_weight='balanced')"
   ]
  },
  {
   "cell_type": "markdown",
   "metadata": {},
   "source": [
    "#### 5.2: Fit the model to trianing data."
   ]
  },
  {
   "cell_type": "code",
   "execution_count": null,
   "metadata": {},
   "outputs": [],
   "source": [
    "cls.fit(X_train, y_train_dummies)"
   ]
  },
  {
   "cell_type": "markdown",
   "metadata": {},
   "source": [
    "#### 5.3: Fit the model to validation data."
   ]
  },
  {
   "cell_type": "code",
   "execution_count": 22,
   "metadata": {},
   "outputs": [
    {
     "name": "stderr",
     "output_type": "stream",
     "text": [
      "/anaconda3/lib/python3.6/site-packages/ipykernel_launcher.py:1: DataConversionWarning: A column-vector y was passed when a 1d array was expected. Please change the shape of y to (n_samples,), for example using ravel().\n",
      "  \"\"\"Entry point for launching an IPython kernel.\n"
     ]
    },
    {
     "data": {
      "text/plain": [
       "RandomForestClassifier(bootstrap=True, class_weight='balanced',\n",
       "            criterion='gini', max_depth=10, max_features='auto',\n",
       "            max_leaf_nodes=None, min_impurity_decrease=0.0,\n",
       "            min_impurity_split=None, min_samples_leaf=1,\n",
       "            min_samples_split=2, min_weight_fraction_leaf=0.0,\n",
       "            n_estimators=29, n_jobs=None, oob_score=False,\n",
       "            random_state=None, verbose=0, warm_start=False)"
      ]
     },
     "execution_count": 22,
     "metadata": {},
     "output_type": "execute_result"
    }
   ],
   "source": [
    "cls.fit(X_val, y_val)"
   ]
  },
  {
   "cell_type": "markdown",
   "metadata": {},
   "source": [
    "### Step 6: Check model performance on training, validation and testing data. "
   ]
  },
  {
   "cell_type": "code",
   "execution_count": 23,
   "metadata": {},
   "outputs": [
    {
     "data": {
      "text/plain": [
       "0.6856794529824058"
      ]
     },
     "execution_count": 23,
     "metadata": {},
     "output_type": "execute_result"
    }
   ],
   "source": [
    "from sklearn.metrics import f1_score\n",
    "\n",
    "f1_score(cls.predict(X_train), y_train_dummies, average='weighted')"
   ]
  },
  {
   "cell_type": "code",
   "execution_count": 24,
   "metadata": {},
   "outputs": [
    {
     "data": {
      "text/plain": [
       "0.7503440149870262"
      ]
     },
     "execution_count": 24,
     "metadata": {},
     "output_type": "execute_result"
    }
   ],
   "source": [
    "f1_score(cls.predict(X_val), y_val, average='weighted')"
   ]
  },
  {
   "cell_type": "code",
   "execution_count": 25,
   "metadata": {},
   "outputs": [
    {
     "data": {
      "text/plain": [
       "0.6814339486838772"
      ]
     },
     "execution_count": 25,
     "metadata": {},
     "output_type": "execute_result"
    }
   ],
   "source": [
    "f1_score(cls.predict(X_test), y_test, average='weighted')"
   ]
  },
  {
   "cell_type": "markdown",
   "metadata": {},
   "source": [
    "### Step 7: Perform inference. "
   ]
  },
  {
   "cell_type": "code",
   "execution_count": 26,
   "metadata": {},
   "outputs": [
    {
     "name": "stdout",
     "output_type": "stream",
     "text": [
      "['Trump is a Republican']\n",
      "[0]\n",
      "This article is not fake news.\n"
     ]
    }
   ],
   "source": [
    "test_string = ['Trump is a Republican']\n",
    "\n",
    "import pickle\n",
    "#print (tfidf_vectorizer)\n",
    "with open('tfidf_save.pkl', 'wb') as handle:\n",
    "    pickle.dump(tfidf_vectorizer, handle)\n",
    "\n",
    "tfidf_loaded = pickle.load(open('tfidf_save.pkl', 'rb'))\n",
    "#print (tfidf_loaded)\n",
    "\n",
    "\n",
    "sample = tfidf_loaded.transform(test_string)\n",
    "demo = cls.predict(sample)\n",
    "demo\n",
    "\n",
    "print(test_string)\n",
    "print(demo)\n",
    "if demo[0] == 0:\n",
    "    print('This article is not fake news.')\n",
    "if demo[0] == 1:\n",
    "    print('This article is fake news.')"
   ]
  },
  {
   "cell_type": "code",
   "execution_count": 27,
   "metadata": {},
   "outputs": [
    {
     "name": "stdout",
     "output_type": "stream",
     "text": [
      "['Hillary Clinton is a Democrat']\n",
      "[1]\n",
      "This article is fake news.\n"
     ]
    }
   ],
   "source": [
    "test_string_2 = ['Hillary Clinton is a Democrat']\n",
    "\n",
    "import pickle\n",
    "with open('tfidf_save.pkl', 'wb') as handle:\n",
    "    pickle.dump(tfidf_vectorizer, handle)\n",
    "\n",
    "tfidf_loaded = pickle.load(open('tfidf_save.pkl', 'rb'))\n",
    "\n",
    "\n",
    "sample = tfidf_loaded.transform(test_string_2)\n",
    "demo = cls.predict(sample)\n",
    "demo\n",
    "\n",
    "\n",
    "print(test_string_2)\n",
    "print(demo)\n",
    "if demo[0] == 0:\n",
    "    print('This article is not fake news.')\n",
    "if demo[0] == 1:\n",
    "    print('This article is fake news.')"
   ]
  },
  {
   "cell_type": "code",
   "execution_count": 28,
   "metadata": {},
   "outputs": [
    {
     "name": "stdout",
     "output_type": "stream",
     "text": [
      "['YOU WONT BELIEVE IT: All Science is False']\n",
      "[1]\n",
      "This article is fake news.\n"
     ]
    }
   ],
   "source": [
    "test_string_3 = [\"YOU WONT BELIEVE IT: All Science is False\"]\n",
    "\n",
    "import pickle\n",
    "with open('tfidf_save.pkl', 'wb') as handle:\n",
    "    pickle.dump(tfidf_vectorizer, handle)\n",
    "\n",
    "tfidf_loaded = pickle.load(open('tfidf_save.pkl', 'rb'))\n",
    "\n",
    "\n",
    "sample = tfidf_loaded.transform(test_string_3)\n",
    "demo = cls.predict(sample)\n",
    "\n",
    "print(test_string_3)\n",
    "print(demo)\n",
    "if demo[0] == 0:\n",
    "    print('This article is not fake news.')\n",
    "if demo[0] == 1:\n",
    "    print('This article is fake news.')"
   ]
  },
  {
   "cell_type": "code",
   "execution_count": 29,
   "metadata": {},
   "outputs": [
    {
     "name": "stdout",
     "output_type": "stream",
     "text": [
      "['Scientists Say Voting Could Kill You!']\n",
      "[1]\n",
      "This article is fake news.\n"
     ]
    }
   ],
   "source": [
    "test_string_4 = [\"Scientists Say Voting Could Kill You!\"]\n",
    "\n",
    "import pickle\n",
    "\n",
    "with open('tfidf_save.pkl', 'wb') as handle:\n",
    "    pickle.dump(tfidf_vectorizer, handle)\n",
    "\n",
    "tfidf_loaded = pickle.load(open('tfidf_save.pkl', 'rb'))\n",
    "\n",
    "\n",
    "\n",
    "sample = tfidf_loaded.transform(test_string_4)\n",
    "demo = cls.predict(sample)\n",
    "\n",
    "\n",
    "\n",
    "print(test_string_4)\n",
    "print(demo)\n",
    "if demo[0] == 0:\n",
    "    print('This article is not fake news.')\n",
    "if demo[0] == 1:\n",
    "    print('This article is fake news.')"
   ]
  }
 ],
 "metadata": {
  "kernelspec": {
   "display_name": "Python 3",
   "language": "python",
   "name": "python3"
  },
  "language_info": {
   "codemirror_mode": {
    "name": "ipython",
    "version": 3
   },
   "file_extension": ".py",
   "mimetype": "text/x-python",
   "name": "python",
   "nbconvert_exporter": "python",
   "pygments_lexer": "ipython3",
   "version": "3.6.6"
  }
 },
 "nbformat": 4,
 "nbformat_minor": 2
}
